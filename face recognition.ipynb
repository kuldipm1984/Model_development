{
 "cells": [
  {
   "cell_type": "code",
   "execution_count": 2,
   "id": "fda5a48c-dfb4-4618-89bc-e2195f4ae853",
   "metadata": {},
   "outputs": [],
   "source": [
    "import os\n",
    "import pandas as pd\n",
    "import tensorflow as tf\n",
    "from tensorflow.keras.preprocessing.image import ImageDataGenerator\n",
    "from tensorflow.keras.utils import to_categorical\n",
    "from tensorflow.keras import layers, models\n",
    "import numpy as np\n",
    "from sklearn.model_selection import train_test_split"
   ]
  },
  {
   "cell_type": "code",
   "execution_count": 6,
   "id": "8610d46d-3d84-47ca-8fe4-2e316dd5f8f6",
   "metadata": {},
   "outputs": [
    {
     "data": {
      "text/html": [
       "<div>\n",
       "<style scoped>\n",
       "    .dataframe tbody tr th:only-of-type {\n",
       "        vertical-align: middle;\n",
       "    }\n",
       "\n",
       "    .dataframe tbody tr th {\n",
       "        vertical-align: top;\n",
       "    }\n",
       "\n",
       "    .dataframe thead th {\n",
       "        text-align: right;\n",
       "    }\n",
       "</style>\n",
       "<table border=\"1\" class=\"dataframe\">\n",
       "  <thead>\n",
       "    <tr style=\"text-align: right;\">\n",
       "      <th></th>\n",
       "      <th>id</th>\n",
       "      <th>label</th>\n",
       "    </tr>\n",
       "  </thead>\n",
       "  <tbody>\n",
       "    <tr>\n",
       "      <th>0</th>\n",
       "      <td>Robert Downey Jr_87.jpg</td>\n",
       "      <td>Robert Downey Jr</td>\n",
       "    </tr>\n",
       "    <tr>\n",
       "      <th>1</th>\n",
       "      <td>Lisa Kudrow_64.jpg</td>\n",
       "      <td>Lisa Kudrow</td>\n",
       "    </tr>\n",
       "    <tr>\n",
       "      <th>2</th>\n",
       "      <td>Ellen Degeneres_34.jpg</td>\n",
       "      <td>Ellen Degeneres</td>\n",
       "    </tr>\n",
       "    <tr>\n",
       "      <th>3</th>\n",
       "      <td>Billie Eilish_3.jpg</td>\n",
       "      <td>Billie Eilish</td>\n",
       "    </tr>\n",
       "    <tr>\n",
       "      <th>4</th>\n",
       "      <td>Hrithik Roshan_35.jpg</td>\n",
       "      <td>Hrithik Roshan</td>\n",
       "    </tr>\n",
       "    <tr>\n",
       "      <th>...</th>\n",
       "      <td>...</td>\n",
       "      <td>...</td>\n",
       "    </tr>\n",
       "    <tr>\n",
       "      <th>2557</th>\n",
       "      <td>Jessica Alba_90.jpg</td>\n",
       "      <td>Jessica Alba</td>\n",
       "    </tr>\n",
       "    <tr>\n",
       "      <th>2558</th>\n",
       "      <td>Elizabeth Olsen_27.jpg</td>\n",
       "      <td>Elizabeth Olsen</td>\n",
       "    </tr>\n",
       "    <tr>\n",
       "      <th>2559</th>\n",
       "      <td>Elizabeth Olsen_59.jpg</td>\n",
       "      <td>Elizabeth Olsen</td>\n",
       "    </tr>\n",
       "    <tr>\n",
       "      <th>2560</th>\n",
       "      <td>Henry Cavill_7.jpg</td>\n",
       "      <td>Henry Cavill</td>\n",
       "    </tr>\n",
       "    <tr>\n",
       "      <th>2561</th>\n",
       "      <td>Claire Holt_29.jpg</td>\n",
       "      <td>Claire Holt</td>\n",
       "    </tr>\n",
       "  </tbody>\n",
       "</table>\n",
       "<p>2562 rows × 2 columns</p>\n",
       "</div>"
      ],
      "text/plain": [
       "                           id             label\n",
       "0     Robert Downey Jr_87.jpg  Robert Downey Jr\n",
       "1          Lisa Kudrow_64.jpg       Lisa Kudrow\n",
       "2      Ellen Degeneres_34.jpg   Ellen Degeneres\n",
       "3         Billie Eilish_3.jpg     Billie Eilish\n",
       "4       Hrithik Roshan_35.jpg    Hrithik Roshan\n",
       "...                       ...               ...\n",
       "2557      Jessica Alba_90.jpg      Jessica Alba\n",
       "2558   Elizabeth Olsen_27.jpg   Elizabeth Olsen\n",
       "2559   Elizabeth Olsen_59.jpg   Elizabeth Olsen\n",
       "2560       Henry Cavill_7.jpg      Henry Cavill\n",
       "2561       Claire Holt_29.jpg       Claire Holt\n",
       "\n",
       "[2562 rows x 2 columns]"
      ]
     },
     "execution_count": 6,
     "metadata": {},
     "output_type": "execute_result"
    }
   ],
   "source": [
    "csv_path = \"E:/Dataset.csv\"\n",
    "df = pd.read_csv(csv_path)\n",
    "df"
   ]
  },
  {
   "cell_type": "code",
   "execution_count": 7,
   "id": "c0771e44-1c06-4eb3-b9b4-0c54d9304102",
   "metadata": {},
   "outputs": [],
   "source": [
    "from sklearn.preprocessing import LabelEncoder\n",
    "le = LabelEncoder()\n",
    "df['label'] = le.fit_transform(df['label'])"
   ]
  },
  {
   "cell_type": "code",
   "execution_count": 16,
   "id": "53d001b0-ad06-4569-a559-62069c3d9386",
   "metadata": {},
   "outputs": [],
   "source": [
    "# Define the image directory\n",
    "image_dir = \"E:/Faces\"\n",
    "num_classes=len(df['label'])\n",
    "\n",
    "# Load images\n",
    "image_size = (128, 128)  # Adjust as needed\n",
    "X, y = [], []\n",
    "\n",
    "for _, row in df.iterrows():\n",
    "    image_path = os.path.join(image_dir, row['id'])\n",
    "    image = tf.keras.preprocessing.image.load_img(image_path, target_size=image_size)\n",
    "    image = tf.keras.preprocessing.image.img_to_array(image) / 255.0  # Normalize\n",
    "    X.append(image)\n",
    "    y.append(row['label'])\n",
    "\n",
    "X = np.array(X)\n",
    "\n",
    "y = to_categorical(y, num_classes)  # Convert labels to one-hot encoding\n"
   ]
  },
  {
   "cell_type": "code",
   "execution_count": 17,
   "id": "81c92fe9-fc2d-48db-8bd0-971eff62f100",
   "metadata": {},
   "outputs": [],
   "source": [
    "X_train, X_test, y_train, y_test = train_test_split(X, y, test_size=0.2, random_state=42)\n"
   ]
  },
  {
   "cell_type": "code",
   "execution_count": 18,
   "id": "a549f77d-6e8f-4f6f-859d-393430ca0918",
   "metadata": {},
   "outputs": [],
   "source": [
    "model = models.Sequential([\n",
    "    layers.Conv2D(32, (3, 3), activation='relu', input_shape=(128, 128, 3)),\n",
    "    layers.MaxPooling2D((2, 2)),\n",
    "    layers.Conv2D(64, (3, 3), activation='relu'),\n",
    "    layers.MaxPooling2D((2, 2)),\n",
    "    layers.Conv2D(128, (3, 3), activation='relu'),\n",
    "    layers.MaxPooling2D((2, 2)),\n",
    "    layers.Flatten(),\n",
    "    layers.Dense(128, activation='relu'),\n",
    "    layers.Dense(num_classes, activation='softmax')  # Output layer\n",
    "])\n"
   ]
  },
  {
   "cell_type": "code",
   "execution_count": 19,
   "id": "b6bac2b7-4bc0-4a2d-80e9-979b641378cd",
   "metadata": {},
   "outputs": [
    {
     "name": "stdout",
     "output_type": "stream",
     "text": [
      "Epoch 1/10\n",
      "65/65 [==============================] - 29s 399ms/step - loss: 4.0448 - accuracy: 0.0327 - val_loss: 3.4402 - val_accuracy: 0.0585\n",
      "Epoch 2/10\n",
      "65/65 [==============================] - 25s 385ms/step - loss: 3.2120 - accuracy: 0.1049 - val_loss: 2.6984 - val_accuracy: 0.2398\n",
      "Epoch 3/10\n",
      "65/65 [==============================] - 25s 383ms/step - loss: 2.3415 - accuracy: 0.3280 - val_loss: 2.3898 - val_accuracy: 0.2729\n",
      "Epoch 4/10\n",
      "65/65 [==============================] - 24s 377ms/step - loss: 1.8217 - accuracy: 0.4666 - val_loss: 1.9886 - val_accuracy: 0.4113\n",
      "Epoch 5/10\n",
      "65/65 [==============================] - 25s 385ms/step - loss: 1.4042 - accuracy: 0.5822 - val_loss: 2.3019 - val_accuracy: 0.4327\n",
      "Epoch 6/10\n",
      "65/65 [==============================] - 25s 380ms/step - loss: 1.0918 - accuracy: 0.6623 - val_loss: 1.6090 - val_accuracy: 0.5380\n",
      "Epoch 7/10\n",
      "65/65 [==============================] - 24s 375ms/step - loss: 0.7488 - accuracy: 0.7706 - val_loss: 1.7815 - val_accuracy: 0.5400\n",
      "Epoch 8/10\n",
      "65/65 [==============================] - 28s 425ms/step - loss: 0.5665 - accuracy: 0.8233 - val_loss: 1.5918 - val_accuracy: 0.6316\n",
      "Epoch 9/10\n",
      "65/65 [==============================] - 25s 377ms/step - loss: 0.2379 - accuracy: 0.9248 - val_loss: 1.7825 - val_accuracy: 0.6277\n",
      "Epoch 10/10\n",
      "65/65 [==============================] - 24s 371ms/step - loss: 0.1423 - accuracy: 0.9561 - val_loss: 1.9256 - val_accuracy: 0.6394\n"
     ]
    },
    {
     "data": {
      "text/plain": [
       "<keras.src.callbacks.History at 0x20e5d83f850>"
      ]
     },
     "execution_count": 19,
     "metadata": {},
     "output_type": "execute_result"
    }
   ],
   "source": [
    "model.compile(optimizer='adam', loss='categorical_crossentropy', metrics=['accuracy'])\n",
    "\n",
    "model.fit(X_train, y_train, epochs=10, validation_data=(X_test, y_test), batch_size=32)\n"
   ]
  },
  {
   "cell_type": "code",
   "execution_count": 20,
   "id": "1e5253f4-f197-4551-97fa-4c6455e5bd30",
   "metadata": {},
   "outputs": [],
   "source": [
    "import numpy as np\n",
    "import tensorflow as tf\n",
    "\n",
    "def preprocess_image(image_path, image_size=(128, 128)):\n",
    "    image = tf.keras.preprocessing.image.load_img(image_path, target_size=image_size)\n",
    "    image = tf.keras.preprocessing.image.img_to_array(image) / 255.0  # Normalize\n",
    "    image = np.expand_dims(image, axis=0)  # Add batch dimension\n",
    "    return image\n"
   ]
  },
  {
   "cell_type": "code",
   "execution_count": 24,
   "id": "9626b5fb-b069-465e-90de-2d80562d2119",
   "metadata": {},
   "outputs": [
    {
     "name": "stdout",
     "output_type": "stream",
     "text": [
      "1/1 [==============================] - 0s 43ms/step\n",
      "Predicted Name: Alia Bhatt\n"
     ]
    }
   ],
   "source": [
    "test_image_path = \"E:/image.jpg\" \n",
    "image = preprocess_image(test_image_path)\n",
    "\n",
    "# Get model predictions\n",
    "predictions = model.predict(image)\n",
    "\n",
    "# Get the class with the highest probability\n",
    "predicted_label = np.argmax(predictions)\n",
    "\n",
    "# Load label-to-name mapping (use the same encoding as before)\n",
    "predicted_name = le.inverse_transform([predicted_label])[0]\n",
    "print(f\"Predicted Name: {predicted_name}\")\n"
   ]
  },
  {
   "cell_type": "code",
   "execution_count": null,
   "id": "33d24e98-648d-4335-9051-2181ed414a50",
   "metadata": {},
   "outputs": [],
   "source": []
  }
 ],
 "metadata": {
  "kernelspec": {
   "display_name": "Python 3 (ipykernel)",
   "language": "python",
   "name": "python3"
  },
  "language_info": {
   "codemirror_mode": {
    "name": "ipython",
    "version": 3
   },
   "file_extension": ".py",
   "mimetype": "text/x-python",
   "name": "python",
   "nbconvert_exporter": "python",
   "pygments_lexer": "ipython3",
   "version": "3.11.7"
  }
 },
 "nbformat": 4,
 "nbformat_minor": 5
}
