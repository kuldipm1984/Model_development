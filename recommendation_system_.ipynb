{
 "cells": [
  {
   "cell_type": "code",
   "execution_count": 72,
   "id": "c9241511-becf-4353-8dcf-eae2eea300e9",
   "metadata": {},
   "outputs": [],
   "source": [
    "import pandas as pd\n",
    "df= pd.read_csv('retail_combined_data.csv')"
   ]
  },
  {
   "cell_type": "code",
   "execution_count": 73,
   "id": "bafb6a55-e5ec-4481-b35c-8bd3f29a0b4a",
   "metadata": {},
   "outputs": [],
   "source": [
    "import pandas as pd\n",
    "import numpy as np\n",
    "from sklearn.model_selection import train_test_split\n",
    "from sklearn.feature_extraction.text import TfidfVectorizer\n",
    "from sklearn.preprocessing import LabelEncoder\n",
    "from tensorflow.keras.models import Model\n",
    "from tensorflow.keras.layers import Input, Embedding, Flatten, Dense, Concatenate, Dropout\n",
    "from tensorflow.keras.optimizers import Adam\n",
    "from keras.layers import Input, Dropout, Dense, BatchNormalization, Activation, concatenate, GRU, Embedding, Flatten, BatchNormalization\n"
   ]
  },
  {
   "cell_type": "code",
   "execution_count": 74,
   "id": "2e61a8e9-57fe-455a-8591-53de3c4ba4bb",
   "metadata": {},
   "outputs": [
    {
     "data": {
      "text/html": [
       "<div>\n",
       "<style scoped>\n",
       "    .dataframe tbody tr th:only-of-type {\n",
       "        vertical-align: middle;\n",
       "    }\n",
       "\n",
       "    .dataframe tbody tr th {\n",
       "        vertical-align: top;\n",
       "    }\n",
       "\n",
       "    .dataframe thead th {\n",
       "        text-align: right;\n",
       "    }\n",
       "</style>\n",
       "<table border=\"1\" class=\"dataframe\">\n",
       "  <thead>\n",
       "    <tr style=\"text-align: right;\">\n",
       "      <th></th>\n",
       "      <th>customer_id</th>\n",
       "      <th>product_id</th>\n",
       "      <th>purchase_score</th>\n",
       "      <th>name</th>\n",
       "      <th>description</th>\n",
       "    </tr>\n",
       "  </thead>\n",
       "  <tbody>\n",
       "    <tr>\n",
       "      <th>0</th>\n",
       "      <td>269</td>\n",
       "      <td>2</td>\n",
       "      <td>5</td>\n",
       "      <td>Headphones</td>\n",
       "      <td>Noise-canceling wireless headphones</td>\n",
       "    </tr>\n",
       "    <tr>\n",
       "      <th>1</th>\n",
       "      <td>53</td>\n",
       "      <td>4</td>\n",
       "      <td>2</td>\n",
       "      <td>Smartwatch</td>\n",
       "      <td>Smartwatch with health tracking features</td>\n",
       "    </tr>\n",
       "    <tr>\n",
       "      <th>2</th>\n",
       "      <td>412</td>\n",
       "      <td>3</td>\n",
       "      <td>4</td>\n",
       "      <td>Camera</td>\n",
       "      <td>DSLR camera with 4K video recording</td>\n",
       "    </tr>\n",
       "    <tr>\n",
       "      <th>3</th>\n",
       "      <td>130</td>\n",
       "      <td>0</td>\n",
       "      <td>5</td>\n",
       "      <td>Laptop</td>\n",
       "      <td>High-performance laptop with latest processor</td>\n",
       "    </tr>\n",
       "    <tr>\n",
       "      <th>4</th>\n",
       "      <td>609</td>\n",
       "      <td>1</td>\n",
       "      <td>4</td>\n",
       "      <td>Smartphone</td>\n",
       "      <td>Feature-rich smartphone with excellent camera</td>\n",
       "    </tr>\n",
       "    <tr>\n",
       "      <th>...</th>\n",
       "      <td>...</td>\n",
       "      <td>...</td>\n",
       "      <td>...</td>\n",
       "      <td>...</td>\n",
       "      <td>...</td>\n",
       "    </tr>\n",
       "    <tr>\n",
       "      <th>19995</th>\n",
       "      <td>52</td>\n",
       "      <td>3</td>\n",
       "      <td>2</td>\n",
       "      <td>Camera</td>\n",
       "      <td>DSLR camera with 4K video recording</td>\n",
       "    </tr>\n",
       "    <tr>\n",
       "      <th>19996</th>\n",
       "      <td>788</td>\n",
       "      <td>2</td>\n",
       "      <td>4</td>\n",
       "      <td>Headphones</td>\n",
       "      <td>Noise-canceling wireless headphones</td>\n",
       "    </tr>\n",
       "    <tr>\n",
       "      <th>19997</th>\n",
       "      <td>396</td>\n",
       "      <td>1</td>\n",
       "      <td>2</td>\n",
       "      <td>Smartphone</td>\n",
       "      <td>Feature-rich smartphone with excellent camera</td>\n",
       "    </tr>\n",
       "    <tr>\n",
       "      <th>19998</th>\n",
       "      <td>193</td>\n",
       "      <td>3</td>\n",
       "      <td>3</td>\n",
       "      <td>Camera</td>\n",
       "      <td>DSLR camera with 4K video recording</td>\n",
       "    </tr>\n",
       "    <tr>\n",
       "      <th>19999</th>\n",
       "      <td>398</td>\n",
       "      <td>3</td>\n",
       "      <td>1</td>\n",
       "      <td>Camera</td>\n",
       "      <td>DSLR camera with 4K video recording</td>\n",
       "    </tr>\n",
       "  </tbody>\n",
       "</table>\n",
       "<p>20000 rows × 5 columns</p>\n",
       "</div>"
      ],
      "text/plain": [
       "       customer_id  product_id  purchase_score        name  \\\n",
       "0              269           2               5  Headphones   \n",
       "1               53           4               2  Smartwatch   \n",
       "2              412           3               4      Camera   \n",
       "3              130           0               5      Laptop   \n",
       "4              609           1               4  Smartphone   \n",
       "...            ...         ...             ...         ...   \n",
       "19995           52           3               2      Camera   \n",
       "19996          788           2               4  Headphones   \n",
       "19997          396           1               2  Smartphone   \n",
       "19998          193           3               3      Camera   \n",
       "19999          398           3               1      Camera   \n",
       "\n",
       "                                         description  \n",
       "0                Noise-canceling wireless headphones  \n",
       "1           Smartwatch with health tracking features  \n",
       "2                DSLR camera with 4K video recording  \n",
       "3      High-performance laptop with latest processor  \n",
       "4      Feature-rich smartphone with excellent camera  \n",
       "...                                              ...  \n",
       "19995            DSLR camera with 4K video recording  \n",
       "19996            Noise-canceling wireless headphones  \n",
       "19997  Feature-rich smartphone with excellent camera  \n",
       "19998            DSLR camera with 4K video recording  \n",
       "19999            DSLR camera with 4K video recording  \n",
       "\n",
       "[20000 rows x 5 columns]"
      ]
     },
     "execution_count": 74,
     "metadata": {},
     "output_type": "execute_result"
    }
   ],
   "source": [
    "customer_encoder = LabelEncoder()\n",
    "product_encoder = LabelEncoder()\n",
    "df[\"customer_id\"] = customer_encoder.fit_transform(df[\"customer_id\"])\n",
    "df[\"product_id\"] = product_encoder.fit_transform(df[\"product_id\"])\n",
    "df"
   ]
  },
  {
   "cell_type": "code",
   "execution_count": 75,
   "id": "0ed08d81-a39c-4696-a2d9-4db693594406",
   "metadata": {},
   "outputs": [
    {
     "data": {
      "text/plain": [
       "array([2, 4, 3, 0, 1], dtype=int64)"
      ]
     },
     "execution_count": 75,
     "metadata": {},
     "output_type": "execute_result"
    }
   ],
   "source": [
    "df['product_id'].unique()"
   ]
  },
  {
   "cell_type": "code",
   "execution_count": 76,
   "id": "4f64a58c-919d-433c-8b3f-6d27e0911516",
   "metadata": {},
   "outputs": [],
   "source": [
    "train_data, test_data = train_test_split(df, test_size=0.2, random_state=42)"
   ]
  },
  {
   "cell_type": "markdown",
   "id": "b3fa5a96-98f2-4b93-9a1d-f82bbf2072e8",
   "metadata": {},
   "source": [
    "## Collaborative filtering"
   ]
  },
  {
   "cell_type": "code",
   "execution_count": 77,
   "id": "ce462af1-b9cf-4bc1-b659-09f09f2a1023",
   "metadata": {},
   "outputs": [],
   "source": [
    "num_customers = df[\"customer_id\"].nunique()+1\n",
    "num_products = df[\"product_id\"].nunique()+1\n",
    "embedding_dim = 10"
   ]
  },
  {
   "cell_type": "code",
   "execution_count": 78,
   "id": "da3df99f-f513-4c1e-b30a-6860400e012f",
   "metadata": {},
   "outputs": [],
   "source": [
    "# Input layers\n",
    "customer_input = Input(shape=(1,), name=\"customer_input\")\n",
    "product_input = Input(shape=(1,), name=\"product_input\")\n",
    "\n",
    "# Embeddings\n",
    "customer_embedding = Embedding(num_customers, embedding_dim, name=\"customer_embedding\")(customer_input)\n",
    "product_embedding = Embedding(num_products, embedding_dim, name=\"product_embedding\")(product_input)\n",
    "customer_vec = Flatten()(customer_embedding)\n",
    "product_vec = Flatten()(product_embedding)\n",
    "\n",
    "# Merge\n",
    "collab_layer = Concatenate()([customer_vec, product_vec])\n",
    "dense_layer = Dense(128, activation='relu')(collab_layer)\n",
    "dense_layer = Dense(64, activation='relu')(dense_layer)\n",
    "collab_output = Dense(1, activation='linear', name=\"collab_output\")(dense_layer)\n",
    "\n",
    "collab_model = Model(inputs=[customer_input, product_input], outputs=collab_output)\n",
    "collab_model.compile(optimizer='adam', loss='mse', metrics=['mae'])"
   ]
  },
  {
   "cell_type": "code",
   "execution_count": 79,
   "id": "9d011abc-d62f-425a-91f9-37a1b04d6fde",
   "metadata": {},
   "outputs": [
    {
     "name": "stdout",
     "output_type": "stream",
     "text": [
      "\u001b[1m80/80\u001b[0m \u001b[32m━━━━━━━━━━━━━━━━━━━━\u001b[0m\u001b[37m\u001b[0m \u001b[1m5s\u001b[0m 13ms/step - loss: 7.4246 - mae: 2.3178 - val_loss: 2.0279 - val_mae: 1.2307\n"
     ]
    },
    {
     "data": {
      "text/plain": [
       "<keras.src.callbacks.history.History at 0x2154008d110>"
      ]
     },
     "execution_count": 79,
     "metadata": {},
     "output_type": "execute_result"
    }
   ],
   "source": [
    "collab_model.fit(\n",
    "    [train_data['customer_id'], train_data['product_id']], train_data['purchase_score'],\n",
    "    validation_data=([test_data['customer_id'], test_data['product_id']], test_data['purchase_score']),\n",
    "    epochs=1, batch_size=200\n",
    ")"
   ]
  },
  {
   "cell_type": "markdown",
   "id": "c94bae91-105a-4485-bb14-7d27194f2e9b",
   "metadata": {},
   "source": [
    "## Content filtering"
   ]
  },
  {
   "cell_type": "code",
   "execution_count": 80,
   "id": "e823847a-2647-4f47-9166-28cb8bbe1bf4",
   "metadata": {},
   "outputs": [],
   "source": [
    "import tensorflow as tf\n",
    "from tensorflow.keras.preprocessing.text import Tokenizer\n",
    "raw_text = np.hstack([df.name.str.lower(), df.description.str.lower()])\n",
    "tokenizer = Tokenizer()\n",
    "tokenizer.fit_on_texts(raw_text)\n",
    "description_token= tokenizer.texts_to_sequences(df.description.str.lower())\n",
    "name_token = tokenizer.texts_to_sequences(df.name.str.lower())\n",
    "#description_token_test= tokenizer.texts_to_sequences(test_data.description.str.lower())\n",
    "#name_token_test = tokenizer.texts_to_sequences(test_data.name.str.lower())"
   ]
  },
  {
   "cell_type": "code",
   "execution_count": 81,
   "id": "7da0e1a0-e4ad-45fc-9e44-f41786004fd4",
   "metadata": {},
   "outputs": [],
   "source": [
    "max_description_token_length = pd.Series(description_token).map(len).max()\n",
    "max_name_token_length = pd.Series(name_token).map(len).max()\n",
    "vocab_size = np.max(np.concatenate([np.concatenate(description_token),np.concatenate(name_token)]))+1"
   ]
  },
  {
   "cell_type": "code",
   "execution_count": 82,
   "id": "c10af5f0-75c8-41eb-9751-afc41b25af0f",
   "metadata": {},
   "outputs": [],
   "source": [
    "from tensorflow.keras.preprocessing.sequence import pad_sequences\n",
    "desc_padded = pad_sequences(description_token, maxlen=5)\n",
    "name_padded = pad_sequences(name_token, maxlen=2)"
   ]
  },
  {
   "cell_type": "code",
   "execution_count": 83,
   "id": "972233fa-c40c-4ff8-9af6-c64e4de77aaa",
   "metadata": {},
   "outputs": [],
   "source": [
    "# Content based model\n",
    "from keras.layers import Input, Dropout, Dense, BatchNormalization, Activation, concatenate, GRU, Embedding, Flatten, BatchNormalization\n",
    "desc_input = Input(shape=(5,), name=\"desc_input\")\n",
    "name_input= Input(shape=(2,), name=\"name_input\")\n",
    "desc_embedding = Embedding(input_dim=vocab_size, output_dim=5)(desc_input)\n",
    "name_embedding = Embedding(input_dim=vocab_size, output_dim=5)(name_input)\n",
    "desc_rnn = GRU(16)(desc_embedding)\n",
    "name_rnn = GRU(8)(name_embedding)\n",
    "merged = Concatenate()([desc_rnn, name_rnn])\n",
    "dense_layer = Dense(64, activation='relu')(merged)\n",
    "dense_layer = Dense(64, activation='relu')(dense_layer)\n",
    "content_output = Dense(1, activation='linear', name=\"content_output\")(dense_layer)"
   ]
  },
  {
   "cell_type": "code",
   "execution_count": 84,
   "id": "eb6e0abd-2432-408c-936b-fce3135144bb",
   "metadata": {},
   "outputs": [],
   "source": [
    "name_train, name_test, desc_train, desc_test = train_test_split(\n",
    "    name_padded, desc_padded, test_size=0.2, random_state=42\n",
    ")"
   ]
  },
  {
   "cell_type": "code",
   "execution_count": 85,
   "id": "9d1f7ef5-fc96-4643-a136-54742fa0e292",
   "metadata": {},
   "outputs": [
    {
     "name": "stdout",
     "output_type": "stream",
     "text": [
      "(16000, 2)\n",
      "(16000, 5)\n",
      "(16000,)\n"
     ]
    }
   ],
   "source": [
    "print(name_train.shape)\n",
    "print(desc_train.shape) \n",
    "print(train_data['purchase_score'].shape) "
   ]
  },
  {
   "cell_type": "code",
   "execution_count": 86,
   "id": "d88c6506-ab4b-4830-b7c5-0d61e9e8ee99",
   "metadata": {},
   "outputs": [
    {
     "name": "stdout",
     "output_type": "stream",
     "text": [
      "\u001b[1m8000/8000\u001b[0m \u001b[32m━━━━━━━━━━━━━━━━━━━━\u001b[0m\u001b[37m\u001b[0m \u001b[1m63s\u001b[0m 7ms/step - loss: 2.2415 - mae: 1.2799 - val_loss: 2.0064 - val_mae: 1.2101\n"
     ]
    },
    {
     "data": {
      "text/plain": [
       "<keras.src.callbacks.history.History at 0x21543fbdc90>"
      ]
     },
     "execution_count": 86,
     "metadata": {},
     "output_type": "execute_result"
    }
   ],
   "source": [
    "# content based model\n",
    "content_model = Model(inputs=[name_input,desc_input], outputs=content_output)\n",
    "content_model.compile(optimizer='adam', loss='mse', metrics=['mae'])\n",
    "train_data['purchase_score']= np.array(train_data['purchase_score'])\n",
    "content_model.fit([name_train,desc_train], train_data['purchase_score'],validation_data=([name_test,desc_test],\n",
    "                                                            test_data['purchase_score']),epochs=1, batch_size=2)"
   ]
  },
  {
   "cell_type": "markdown",
   "id": "2b2ff313-c08c-4949-bde1-19ee57f2fdef",
   "metadata": {},
   "source": [
    "## Hybrid filtering"
   ]
  },
  {
   "cell_type": "code",
   "execution_count": 87,
   "id": "f16180ae-f69a-45c6-a928-dbd58b960b53",
   "metadata": {},
   "outputs": [
    {
     "name": "stdout",
     "output_type": "stream",
     "text": [
      "Epoch 1/2\n",
      "\u001b[1m800/800\u001b[0m \u001b[32m━━━━━━━━━━━━━━━━━━━━\u001b[0m\u001b[37m\u001b[0m \u001b[1m25s\u001b[0m 12ms/step - loss: 2.4399 - mae: 1.3189 - val_loss: 2.0067 - val_mae: 1.2160\n",
      "Epoch 2/2\n",
      "\u001b[1m800/800\u001b[0m \u001b[32m━━━━━━━━━━━━━━━━━━━━\u001b[0m\u001b[37m\u001b[0m \u001b[1m8s\u001b[0m 8ms/step - loss: 2.0284 - mae: 1.2332 - val_loss: 2.0411 - val_mae: 1.2343\n"
     ]
    },
    {
     "data": {
      "text/plain": [
       "<keras.src.callbacks.history.History at 0x2155275e590>"
      ]
     },
     "execution_count": 87,
     "metadata": {},
     "output_type": "execute_result"
    }
   ],
   "source": [
    "# Combine collaborative and content models\n",
    "merged_layer = Concatenate()([collab_output, content_output])\n",
    "hybrid_dense = Dense(64, activation='relu')(merged_layer)\n",
    "hybrid_output = Dense(1, activation='linear', name=\"hybrid_output\")(hybrid_dense)\n",
    "\n",
    "hybrid_model = Model(inputs=[customer_input, product_input,name_input, desc_input], outputs=hybrid_output)\n",
    "hybrid_model.compile(optimizer='adam', loss='mse', metrics=['mae'])\n",
    "\n",
    "hybrid_model.fit(\n",
    "    [train_data['customer_id'], train_data['product_id'],name_train, desc_train],\n",
    "    train_data['purchase_score'],\n",
    "    validation_data=([test_data['customer_id'], test_data['product_id'],name_test, desc_test], test_data['purchase_score']),\n",
    "    epochs=2, batch_size=20\n",
    ")\n"
   ]
  },
  {
   "cell_type": "code",
   "execution_count": 111,
   "id": "98d56279-75f6-4683-8d8b-83fc44bae2e0",
   "metadata": {},
   "outputs": [],
   "source": [
    "customer_map = {customer_id: idx for idx, customer_id in enumerate(train_data['customer_id'].unique())}\n",
    "product_map = {product_id: idx for idx, product_id in enumerate(train_data['product_id'].unique())}\n",
    "\n",
    "def recommend_products(customer_id, top_n=3):\n",
    "    customer_index = customer_map.get(customer_id, None)\n",
    "    if customer_index is None:\n",
    "        return \"Customer not found.\"\n",
    "        \n",
    "    product_indices = np.array(list(product_map.values()))\n",
    "\n",
    "    # Select only relevant padded sequences\n",
    "    filtered_names = name_padded[product_indices]\n",
    "    filtered_descs = desc_padded[product_indices]\n",
    "\n",
    "    # Predict content scores for only mapped products\n",
    "    content_scores = content_model.predict([filtered_names, filtered_descs]).flatten()\n",
    "    \n",
    "    # Predict scores for all products\n",
    "    collab_scores = collab_model.predict([np.array([customer_index] * len(all_products)), all_products]).flatten()\n",
    "    \n",
    "    # Predict content scores\n",
    "     content_scores = content_model.predict([name_padded,desc_padded]).flatten()\n",
    "    \n",
    "    # Hybrid score: weighted sum of collaborative & content scores\n",
    "    hybrid_scores = 0.5 * collab_scores + 0.5 * content_scores\n",
    "\n",
    "    # Get top N recommendations\n",
    "    top_indices = np.argsort(-hybrid_scores)[:top_n]\n",
    "    recommended_products = [list(product_map.keys())[i] for i in top_indices]\n",
    "\n",
    "    return recommended_products"
   ]
  },
  {
   "cell_type": "code",
   "execution_count": 112,
   "id": "7f824760-0125-4cfa-9627-95879ddabbf0",
   "metadata": {},
   "outputs": [
    {
     "name": "stdout",
     "output_type": "stream",
     "text": [
      "\u001b[1m1/1\u001b[0m \u001b[32m━━━━━━━━━━━━━━━━━━━━\u001b[0m\u001b[37m\u001b[0m \u001b[1m0s\u001b[0m 83ms/step\n",
      "\u001b[1m1/1\u001b[0m \u001b[32m━━━━━━━━━━━━━━━━━━━━\u001b[0m\u001b[37m\u001b[0m \u001b[1m0s\u001b[0m 88ms/step\n",
      "[2, 4]\n"
     ]
    }
   ],
   "source": [
    "# Get recommendations\n",
    "print(recommend_products(270, top_n=2))"
   ]
  },
  {
   "cell_type": "code",
   "execution_count": null,
   "id": "476765a8-9015-4e3a-a3cf-e60623651768",
   "metadata": {},
   "outputs": [],
   "source": []
  }
 ],
 "metadata": {
  "kernelspec": {
   "display_name": "Python 3 (ipykernel)",
   "language": "python",
   "name": "python3"
  },
  "language_info": {
   "codemirror_mode": {
    "name": "ipython",
    "version": 3
   },
   "file_extension": ".py",
   "mimetype": "text/x-python",
   "name": "python",
   "nbconvert_exporter": "python",
   "pygments_lexer": "ipython3",
   "version": "3.11.7"
  }
 },
 "nbformat": 4,
 "nbformat_minor": 5
}
