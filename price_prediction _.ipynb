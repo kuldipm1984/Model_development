{
 "cells": [
  {
   "cell_type": "code",
   "execution_count": 1,
   "id": "74527066-9536-4b47-b5d5-dee7af28e14f",
   "metadata": {},
   "outputs": [],
   "source": [
    "import numpy as np\n",
    "import pandas as pd\n",
    "from sklearn.preprocessing import LabelEncoder, MinMaxScaler, StandardScaler\n",
    "from sklearn.model_selection import train_test_split\n",
    "import matplotlib.pyplot as plt"
   ]
  },
  {
   "cell_type": "code",
   "execution_count": 2,
   "id": "f92ee1f3-3978-4f50-9a1a-0b4cd43f49cd",
   "metadata": {},
   "outputs": [
    {
     "data": {
      "text/html": [
       "<div>\n",
       "<style scoped>\n",
       "    .dataframe tbody tr th:only-of-type {\n",
       "        vertical-align: middle;\n",
       "    }\n",
       "\n",
       "    .dataframe tbody tr th {\n",
       "        vertical-align: top;\n",
       "    }\n",
       "\n",
       "    .dataframe thead th {\n",
       "        text-align: right;\n",
       "    }\n",
       "</style>\n",
       "<table border=\"1\" class=\"dataframe\">\n",
       "  <thead>\n",
       "    <tr style=\"text-align: right;\">\n",
       "      <th></th>\n",
       "      <th>name</th>\n",
       "      <th>item_condition_id</th>\n",
       "      <th>category_name</th>\n",
       "      <th>brand_name</th>\n",
       "      <th>number_of_item_sold</th>\n",
       "      <th>days_launch</th>\n",
       "      <th>price</th>\n",
       "      <th>shipping</th>\n",
       "      <th>item_description</th>\n",
       "    </tr>\n",
       "  </thead>\n",
       "  <tbody>\n",
       "    <tr>\n",
       "      <th>0</th>\n",
       "      <td>MLB Cincinnati Reds T Shirt Size XL</td>\n",
       "      <td>3</td>\n",
       "      <td>Men/Tops/T-shirts</td>\n",
       "      <td>NaN</td>\n",
       "      <td>1214</td>\n",
       "      <td>67</td>\n",
       "      <td>10.0</td>\n",
       "      <td>1</td>\n",
       "      <td>No description yet</td>\n",
       "    </tr>\n",
       "    <tr>\n",
       "      <th>1</th>\n",
       "      <td>Razer BlackWidow Chroma Keyboard</td>\n",
       "      <td>3</td>\n",
       "      <td>Electronics/Computers &amp; Tablets/Components &amp; P...</td>\n",
       "      <td>Razer</td>\n",
       "      <td>2366</td>\n",
       "      <td>41</td>\n",
       "      <td>52.0</td>\n",
       "      <td>0</td>\n",
       "      <td>This keyboard is in great condition and works ...</td>\n",
       "    </tr>\n",
       "  </tbody>\n",
       "</table>\n",
       "</div>"
      ],
      "text/plain": [
       "                                  name  item_condition_id  \\\n",
       "0  MLB Cincinnati Reds T Shirt Size XL                  3   \n",
       "1     Razer BlackWidow Chroma Keyboard                  3   \n",
       "\n",
       "                                       category_name brand_name  \\\n",
       "0                                  Men/Tops/T-shirts        NaN   \n",
       "1  Electronics/Computers & Tablets/Components & P...      Razer   \n",
       "\n",
       "   number_of_item_sold  days_launch  price  shipping  \\\n",
       "0                 1214           67   10.0         1   \n",
       "1                 2366           41   52.0         0   \n",
       "\n",
       "                                    item_description  \n",
       "0                                 No description yet  \n",
       "1  This keyboard is in great condition and works ...  "
      ]
     },
     "execution_count": 2,
     "metadata": {},
     "output_type": "execute_result"
    }
   ],
   "source": [
    "dataset=pd.read_csv('price_prediction_new.csv')\n",
    "df=dataset.drop(['train_id','Unnamed: 10'], axis=1)\n",
    "df.head(2)"
   ]
  },
  {
   "cell_type": "code",
   "execution_count": 3,
   "id": "d040e01e-7942-4546-9f77-5b5eec823fdc",
   "metadata": {},
   "outputs": [],
   "source": [
    "def handle_missing(dataset):\n",
    "    dataset.category_name.fillna(value=\"missing\", inplace=True)\n",
    "    dataset.brand_name.fillna(value=\"missing\", inplace=True)\n",
    "    dataset.item_description.fillna(value=\"missing\", inplace=True)\n",
    "    return (dataset)\n",
    "\n",
    "data = handle_missing(df)"
   ]
  },
  {
   "cell_type": "code",
   "execution_count": 4,
   "id": "59f6f539-6780-42e7-b1ea-425f4f459e94",
   "metadata": {},
   "outputs": [
    {
     "data": {
      "text/html": [
       "<div>\n",
       "<style scoped>\n",
       "    .dataframe tbody tr th:only-of-type {\n",
       "        vertical-align: middle;\n",
       "    }\n",
       "\n",
       "    .dataframe tbody tr th {\n",
       "        vertical-align: top;\n",
       "    }\n",
       "\n",
       "    .dataframe thead th {\n",
       "        text-align: right;\n",
       "    }\n",
       "</style>\n",
       "<table border=\"1\" class=\"dataframe\">\n",
       "  <thead>\n",
       "    <tr style=\"text-align: right;\">\n",
       "      <th></th>\n",
       "      <th>name</th>\n",
       "      <th>item_condition_id</th>\n",
       "      <th>category_name</th>\n",
       "      <th>brand_name</th>\n",
       "      <th>number_of_item_sold</th>\n",
       "      <th>days_launch</th>\n",
       "      <th>price</th>\n",
       "      <th>shipping</th>\n",
       "      <th>item_description</th>\n",
       "    </tr>\n",
       "  </thead>\n",
       "  <tbody>\n",
       "    <tr>\n",
       "      <th>0</th>\n",
       "      <td>MLB Cincinnati Reds T Shirt Size XL</td>\n",
       "      <td>3</td>\n",
       "      <td>296</td>\n",
       "      <td>552</td>\n",
       "      <td>1214</td>\n",
       "      <td>67</td>\n",
       "      <td>10.0</td>\n",
       "      <td>1</td>\n",
       "      <td>No description yet</td>\n",
       "    </tr>\n",
       "    <tr>\n",
       "      <th>1</th>\n",
       "      <td>Razer BlackWidow Chroma Keyboard</td>\n",
       "      <td>3</td>\n",
       "      <td>52</td>\n",
       "      <td>412</td>\n",
       "      <td>2366</td>\n",
       "      <td>41</td>\n",
       "      <td>52.0</td>\n",
       "      <td>0</td>\n",
       "      <td>This keyboard is in great condition and works ...</td>\n",
       "    </tr>\n",
       "  </tbody>\n",
       "</table>\n",
       "</div>"
      ],
      "text/plain": [
       "                                  name  item_condition_id  category_name  \\\n",
       "0  MLB Cincinnati Reds T Shirt Size XL                  3            296   \n",
       "1     Razer BlackWidow Chroma Keyboard                  3             52   \n",
       "\n",
       "   brand_name  number_of_item_sold  days_launch  price  shipping  \\\n",
       "0         552                 1214           67   10.0         1   \n",
       "1         412                 2366           41   52.0         0   \n",
       "\n",
       "                                    item_description  \n",
       "0                                 No description yet  \n",
       "1  This keyboard is in great condition and works ...  "
      ]
     },
     "execution_count": 4,
     "metadata": {},
     "output_type": "execute_result"
    }
   ],
   "source": [
    "#PROCESS CATEGORICAL DATA\n",
    "le = LabelEncoder()\n",
    "data.category_name = le.fit_transform(data.category_name)\n",
    "data.brand_name = le.fit_transform(data.brand_name)\n",
    "data.head(2)"
   ]
  },
  {
   "cell_type": "code",
   "execution_count": 5,
   "id": "78dd12a9-afbf-4bf2-a924-a6a699765fe4",
   "metadata": {},
   "outputs": [],
   "source": [
    "from sklearn.preprocessing import StandardScaler\n",
    "sc=StandardScaler()\n",
    "columns=['number_of_item_sold','days_launch']\n",
    "data[columns] = sc.fit_transform(data[columns])\n",
    "sc_price=StandardScaler()\n",
    "data[['price']] = sc_price.fit_transform(data[['price']])"
   ]
  },
  {
   "cell_type": "code",
   "execution_count": 6,
   "id": "272776c9-9aa8-45aa-a87f-4b170cbbefdd",
   "metadata": {},
   "outputs": [
    {
     "data": {
      "text/html": [
       "<div>\n",
       "<style scoped>\n",
       "    .dataframe tbody tr th:only-of-type {\n",
       "        vertical-align: middle;\n",
       "    }\n",
       "\n",
       "    .dataframe tbody tr th {\n",
       "        vertical-align: top;\n",
       "    }\n",
       "\n",
       "    .dataframe thead th {\n",
       "        text-align: right;\n",
       "    }\n",
       "</style>\n",
       "<table border=\"1\" class=\"dataframe\">\n",
       "  <thead>\n",
       "    <tr style=\"text-align: right;\">\n",
       "      <th></th>\n",
       "      <th>name</th>\n",
       "      <th>item_condition_id</th>\n",
       "      <th>category_name</th>\n",
       "      <th>brand_name</th>\n",
       "      <th>number_of_item_sold</th>\n",
       "      <th>days_launch</th>\n",
       "      <th>price</th>\n",
       "      <th>shipping</th>\n",
       "      <th>item_description</th>\n",
       "      <th>seq_item_description</th>\n",
       "      <th>seq_name</th>\n",
       "    </tr>\n",
       "  </thead>\n",
       "  <tbody>\n",
       "    <tr>\n",
       "      <th>0</th>\n",
       "      <td>MLB Cincinnati Reds T Shirt Size XL</td>\n",
       "      <td>3</td>\n",
       "      <td>296</td>\n",
       "      <td>552</td>\n",
       "      <td>-0.503870</td>\n",
       "      <td>0.726913</td>\n",
       "      <td>-0.400241</td>\n",
       "      <td>1</td>\n",
       "      <td>No description yet</td>\n",
       "      <td>[12, 62, 71]</td>\n",
       "      <td>[2955, 7310, 4207, 256, 89, 7, 203]</td>\n",
       "    </tr>\n",
       "    <tr>\n",
       "      <th>1</th>\n",
       "      <td>Razer BlackWidow Chroma Keyboard</td>\n",
       "      <td>3</td>\n",
       "      <td>52</td>\n",
       "      <td>412</td>\n",
       "      <td>1.510132</td>\n",
       "      <td>-0.388936</td>\n",
       "      <td>0.621458</td>\n",
       "      <td>0</td>\n",
       "      <td>This keyboard is in great condition and works ...</td>\n",
       "      <td>[24, 2005, 10, 6, 41, 18, 1, 183, 49, 21, 909,...</td>\n",
       "      <td>[3568, 7311, 12164, 2005]</td>\n",
       "    </tr>\n",
       "    <tr>\n",
       "      <th>2</th>\n",
       "      <td>AVA-VIV Blouse</td>\n",
       "      <td>1</td>\n",
       "      <td>500</td>\n",
       "      <td>474</td>\n",
       "      <td>0.943694</td>\n",
       "      <td>-1.161447</td>\n",
       "      <td>-0.400241</td>\n",
       "      <td>1</td>\n",
       "      <td>Adorable top with a hint of lace and a key hol...</td>\n",
       "      <td>[771, 58, 9, 4, 4230, 11, 198, 1, 4, 735, 1185...</td>\n",
       "      <td>[12165, 12166, 490]</td>\n",
       "    </tr>\n",
       "  </tbody>\n",
       "</table>\n",
       "</div>"
      ],
      "text/plain": [
       "                                  name  item_condition_id  category_name  \\\n",
       "0  MLB Cincinnati Reds T Shirt Size XL                  3            296   \n",
       "1     Razer BlackWidow Chroma Keyboard                  3             52   \n",
       "2                       AVA-VIV Blouse                  1            500   \n",
       "\n",
       "   brand_name  number_of_item_sold  days_launch     price  shipping  \\\n",
       "0         552            -0.503870     0.726913 -0.400241         1   \n",
       "1         412             1.510132    -0.388936  0.621458         0   \n",
       "2         474             0.943694    -1.161447 -0.400241         1   \n",
       "\n",
       "                                    item_description  \\\n",
       "0                                 No description yet   \n",
       "1  This keyboard is in great condition and works ...   \n",
       "2  Adorable top with a hint of lace and a key hol...   \n",
       "\n",
       "                                seq_item_description  \\\n",
       "0                                       [12, 62, 71]   \n",
       "1  [24, 2005, 10, 6, 41, 18, 1, 183, 49, 21, 909,...   \n",
       "2  [771, 58, 9, 4, 4230, 11, 198, 1, 4, 735, 1185...   \n",
       "\n",
       "                              seq_name  \n",
       "0  [2955, 7310, 4207, 256, 89, 7, 203]  \n",
       "1            [3568, 7311, 12164, 2005]  \n",
       "2                  [12165, 12166, 490]  "
      ]
     },
     "execution_count": 6,
     "metadata": {},
     "output_type": "execute_result"
    }
   ],
   "source": [
    "import tensorflow as tf\n",
    "from tensorflow.keras.preprocessing.text import Tokenizer\n",
    "raw_text = np.hstack([data.item_description.str.lower(), data.name.str.lower()])\n",
    "tokenizer = Tokenizer()\n",
    "tokenizer.fit_on_texts(raw_text)\n",
    "data[\"seq_item_description\"] = tokenizer.texts_to_sequences(data.item_description.str.lower())\n",
    "data[\"seq_name\"] = tokenizer.texts_to_sequences(data.name.str.lower())\n",
    "data.head(3)"
   ]
  },
  {
   "cell_type": "code",
   "execution_count": 7,
   "id": "77975625-ed55-4bc7-a6a0-c92bb1ce18d2",
   "metadata": {},
   "outputs": [],
   "source": [
    "max_name_seq_length = data['seq_name'].map(len).max()\n",
    "max_seq_item_description_length = data['seq_item_description'].map(len).max()\n",
    "MAX_TEXT = np.max(np.concatenate([np.concatenate(data.seq_name),np.concatenate(data.seq_name)]))+1\n",
    "MAX_CATEGORY = np.max(np.concatenate([data.category_name]))+1\n",
    "MAX_BRAND = np.max(np.concatenate([data.brand_name]))+1\n",
    "MAX_CONDITION = np.max(np.concatenate([data.item_condition_id]))+1"
   ]
  },
  {
   "cell_type": "code",
   "execution_count": 8,
   "id": "8b75aa60-97db-4258-939f-79beb4865ce1",
   "metadata": {},
   "outputs": [
    {
     "name": "stdout",
     "output_type": "stream",
     "text": [
      "max name seq length 10\n",
      "max item desc seq length 194\n",
      "max text 13568\n",
      "max category 532\n",
      "max brand 558\n",
      "max max condition 6\n"
     ]
    }
   ],
   "source": [
    "print(\"max name seq length \"+str(max_name_seq_length))\n",
    "print(\"max item desc seq length \"+str(max_seq_item_description_length))\n",
    "print(\"max text \"+str(MAX_TEXT))\n",
    "print(\"max category \"+str(MAX_CATEGORY))\n",
    "print(\"max brand \"+str(MAX_BRAND))\n",
    "print(\"max max condition \"+str(MAX_CONDITION))"
   ]
  },
  {
   "cell_type": "code",
   "execution_count": 9,
   "id": "85ff01a2-bbb1-498a-99a9-44ccf94f07fd",
   "metadata": {},
   "outputs": [],
   "source": [
    "# split data\n",
    "dataset=data.drop(['name','item_description'], axis=1)\n",
    "data_train, data_test = train_test_split(dataset, random_state=123, train_size=0.8)"
   ]
  },
  {
   "cell_type": "code",
   "execution_count": 10,
   "id": "42481bd5-6799-44de-9281-e249449efce0",
   "metadata": {},
   "outputs": [],
   "source": [
    "from keras.preprocessing.sequence import pad_sequences\n",
    "\n",
    "def get_keras_data(dataset):\n",
    "    X = {\n",
    "        'name': pad_sequences(dataset['seq_name'], maxlen=10, padding='post'),\n",
    "        'item_desc': pad_sequences(dataset['seq_item_description'], maxlen=50, padding='post'),\n",
    "        'brand_name': np.array(dataset['brand_name']),\n",
    "        'category_name': np.array(dataset['category_name']),\n",
    "        'item_condition': np.array(dataset['item_condition_id']),\n",
    "        'shipping': np.array(dataset['shipping']),\n",
    "        'number_of_item_sold': np.array(dataset['number_of_item_sold']),\n",
    "        'days_launch': np.array(dataset['days_launch'])\n",
    "    }\n",
    "    return X\n",
    "X_train = get_keras_data(data_train)\n",
    "X_test = get_keras_data(data_test)\n",
    "y_train = data_train['price'].values\n",
    "y_test = data_test['price'].values"
   ]
  },
  {
   "cell_type": "code",
   "execution_count": 11,
   "id": "074c6bca-d5f0-48e1-968c-f821919c4b16",
   "metadata": {},
   "outputs": [],
   "source": [
    "import tensorflow as tf\n",
    "import keras_tuner as kt\n",
    "from tensorflow.keras.layers import Input, Embedding, GRU, Dense, Dropout, Flatten, BatchNormalization, concatenate\n",
    "from tensorflow.keras.models import Model\n",
    "from tensorflow.keras.optimizers import Adam\n",
    "from tensorflow.keras.regularizers import l2\n",
    "\n",
    "def build_model(hp):\n",
    "    # Hyperparameters\n",
    "    learning_rate = hp.Float('learning_rate', min_value=0.0001, max_value=0.01, sampling='log')\n",
    "    l2_regularizer = hp.Float('l2_regularizer', min_value=0.0001, max_value=0.01, sampling='log')\n",
    "    kernel_initializer = hp.Choice('kernel_initializer', values=['he_uniform', 'glorot_uniform', 'lecun_normal'])\n",
    "    activation = hp.Choice('activation', values=['relu', 'tanh'])\n",
    "    dropout_rate = hp.Float('dropout_rate', min_value=0.2, max_value=0.5, step=0.1)\n",
    "    GRU_units = hp.Int('GRU_units', min_value=32, max_value=256, step=32)\n",
    "    dense_units = hp.Int('dense_units', min_value=32, max_value=128, step=32)\n",
    "\n",
    "    # Inputs \n",
    "    input_name = Input(shape=(10,), name='name')\n",
    "    input_item_desc = Input(shape=(50,), name='item_desc')\n",
    "    input_brand = Input(shape=(1,), name='brand_name')\n",
    "    input_category = Input(shape=(1,), name='category_name')\n",
    "    input_condition = Input(shape=(1,), name='item_condition')\n",
    "    input_shipping = Input(shape=(1,), name='shipping')\n",
    "    input_num_sold = Input(shape=(1,), name='number_of_item_sold')\n",
    "    input_days_launch = Input(shape=(1,), name='days_launch')\n",
    "\n",
    "    # Embedding \n",
    "    embedding_name = Embedding(input_dim=MAX_TEXT, output_dim=50)(input_name)\n",
    "    embedding_item_desc = Embedding(input_dim=MAX_TEXT, output_dim=50)(input_item_desc)\n",
    "\n",
    "    # GRU Layers\n",
    "    rnn_layer_item_desc = GRU(GRU_units, return_sequences=False, \n",
    "                               kernel_initializer=kernel_initializer,\n",
    "                               kernel_regularizer=l2(l2_regularizer))(embedding_item_desc)\n",
    "    rnn_layer_item_desc = Dropout(dropout_rate)(rnn_layer_item_desc)\n",
    "\n",
    "    rnn_layer_name = GRU(GRU_units, return_sequences=False, \n",
    "                          kernel_initializer=kernel_initializer,\n",
    "                          kernel_regularizer=l2(l2_regularizer))(embedding_name)\n",
    "    rnn_layer_name = Dropout(dropout_rate)(rnn_layer_name)\n",
    "\n",
    "    # Categorical Embedding layers\n",
    "    embedding_brand = Embedding(input_dim=1000, output_dim=10)(input_brand)\n",
    "    embedding_category = Embedding(input_dim=1000, output_dim=10)(input_category)\n",
    "    embedding_condition = Embedding(input_dim=10, output_dim=5)(input_condition)\n",
    "    embedding_shipping = Embedding(input_dim=10, output_dim=5)(input_shipping)   \n",
    "    flatten_brand = Flatten()(embedding_brand)\n",
    "    flatten_category = Flatten()(embedding_category)\n",
    "    flatten_condition = Flatten()(embedding_condition)\n",
    "    flatten_shipping = Flatten()(embedding_shipping)\n",
    "\n",
    "    # Concatenate\n",
    "    concat = concatenate([rnn_layer_item_desc, rnn_layer_name, flatten_brand, flatten_category, \n",
    "                          flatten_condition, flatten_shipping, input_num_sold, input_days_launch])\n",
    "   \n",
    "    dense1 = Dense(dense_units, activation=activation, kernel_initializer=kernel_initializer, \n",
    "                   kernel_regularizer=l2(l2_regularizer))(concat)\n",
    "    dense1 = Dropout(dropout_rate)(dense1)\n",
    "    \n",
    "    dense2 = Dense(dense_units, activation=activation, kernel_initializer=kernel_initializer, \n",
    "                   kernel_regularizer=l2(l2_regularizer))(dense1)\n",
    "    dense2 = Dropout(dropout_rate)(dense2)\n",
    "    \n",
    "    output = Dense(1)(dense2)  \n",
    "   \n",
    "    model = Model(inputs=[input_name, input_item_desc, input_brand, input_category, \n",
    "                          input_condition, input_shipping, input_num_sold, input_days_launch],\n",
    "                  outputs=output)\n",
    "    optimizer = Adam(learning_rate=learning_rate)\n",
    "    model.compile(optimizer=optimizer, loss='mean_squared_error', metrics=['mae'])\n",
    "    \n",
    "    return model\n",
    "    "
   ]
  },
  {
   "cell_type": "code",
   "execution_count": 15,
   "id": "b453e109-e35b-4891-940b-597c52a0801a",
   "metadata": {},
   "outputs": [
    {
     "name": "stdout",
     "output_type": "stream",
     "text": [
      "Trial 10 Complete [00h 03m 08s]\n",
      "val_loss: 0.5221289992332458\n",
      "\n",
      "Best val_loss So Far: 0.3645792603492737\n",
      "Total elapsed time: 00h 58m 52s\n"
     ]
    }
   ],
   "source": [
    "# Create the tuner\n",
    "tuner = kt.RandomSearch(\n",
    "    build_model,  # Model-building function\n",
    "    objective='val_loss',  # Objective to optimize\n",
    "    max_trials=10,  # Number of trials to try\n",
    "    directory='exp',\n",
    "    )\n",
    "tuner.search(X_train,y_train , epochs=30, validation_data=(X_test,y_test))"
   ]
  },
  {
   "cell_type": "code",
   "execution_count": 16,
   "id": "97e4f11f-28c3-4532-a409-3f93af85fec3",
   "metadata": {},
   "outputs": [
    {
     "data": {
      "text/plain": [
       "{'learning_rate': 0.001704339592386605,\n",
       " 'l2_regularizer': 0.00010991920429240618,\n",
       " 'kernel_initializer': 'glorot_uniform',\n",
       " 'activation': 'relu',\n",
       " 'dropout_rate': 0.30000000000000004,\n",
       " 'GRU_units': 64,\n",
       " 'dense_units': 32}"
      ]
     },
     "execution_count": 16,
     "metadata": {},
     "output_type": "execute_result"
    }
   ],
   "source": [
    "best_hps = tuner.get_best_hyperparameters(num_trials=1)[0]\n",
    "best_hps.values"
   ]
  },
  {
   "cell_type": "code",
   "execution_count": 17,
   "id": "f77baf58-7c4d-4cef-90cd-77c1c820a769",
   "metadata": {},
   "outputs": [],
   "source": [
    "best_model = tuner.get_best_models(num_models=1)[0]"
   ]
  },
  {
   "cell_type": "code",
   "execution_count": 18,
   "id": "d8c9b41c-52dc-4956-bf8e-e3ed37a83737",
   "metadata": {},
   "outputs": [
    {
     "name": "stdout",
     "output_type": "stream",
     "text": [
      "36/36 [==============================] - 5s 14ms/step - loss: 0.3646 - mae: 0.3233\n",
      "\n",
      "Best Model Validation mae: 0.3233128488063812\n",
      "\n",
      "Best Model Validation Loss: 0.3645792603492737\n"
     ]
    }
   ],
   "source": [
    "val_loss, val_mae = best_model.evaluate(X_test, y_test)\n",
    "print(\"\\nBest Model Validation mae:\", val_mae)\n",
    "print(\"\\nBest Model Validation Loss:\", val_loss) "
   ]
  },
  {
   "cell_type": "code",
   "execution_count": 26,
   "id": "c73969c5-b051-43da-9935-ba484e52e1f6",
   "metadata": {},
   "outputs": [],
   "source": [
    "from tensorflow.keras.callbacks import EarlyStopping\n",
    "early_stopping = EarlyStopping(\n",
    "    monitor='val_loss',  \n",
    "    patience=5,          \n",
    "    restore_best_weights=True  \n",
    ")"
   ]
  },
  {
   "cell_type": "code",
   "execution_count": 27,
   "id": "671a0cd1-cbf6-4306-865d-0816247a3e83",
   "metadata": {},
   "outputs": [
    {
     "name": "stdout",
     "output_type": "stream",
     "text": [
      "Epoch 1/100\n",
      "143/143 [==============================] - 6s 43ms/step - loss: 0.2094 - mae: 0.1604 - val_loss: 0.5506 - val_mae: 0.4145\n",
      "Epoch 2/100\n",
      "143/143 [==============================] - 6s 42ms/step - loss: 0.1474 - mae: 0.1497 - val_loss: 0.5313 - val_mae: 0.4162\n",
      "Epoch 3/100\n",
      "143/143 [==============================] - 5s 36ms/step - loss: 0.0955 - mae: 0.1468 - val_loss: 0.5277 - val_mae: 0.4157\n",
      "Epoch 4/100\n",
      "143/143 [==============================] - 5s 35ms/step - loss: 0.1358 - mae: 0.1514 - val_loss: 0.5592 - val_mae: 0.4150\n",
      "Epoch 5/100\n",
      "143/143 [==============================] - 5s 34ms/step - loss: 0.0957 - mae: 0.1500 - val_loss: 0.5323 - val_mae: 0.4232\n",
      "Epoch 6/100\n",
      "143/143 [==============================] - 6s 39ms/step - loss: 0.0836 - mae: 0.1409 - val_loss: 0.5307 - val_mae: 0.4145\n",
      "Epoch 7/100\n",
      "143/143 [==============================] - 6s 42ms/step - loss: 0.1169 - mae: 0.1461 - val_loss: 0.5418 - val_mae: 0.4270\n",
      "Epoch 8/100\n",
      "143/143 [==============================] - 6s 39ms/step - loss: 0.1716 - mae: 0.1524 - val_loss: 0.4784 - val_mae: 0.4008\n",
      "Epoch 9/100\n",
      "143/143 [==============================] - 6s 42ms/step - loss: 0.1126 - mae: 0.1481 - val_loss: 0.5378 - val_mae: 0.4231\n",
      "Epoch 10/100\n",
      "143/143 [==============================] - 6s 44ms/step - loss: 0.1049 - mae: 0.1426 - val_loss: 0.6083 - val_mae: 0.4195\n",
      "Epoch 11/100\n",
      "143/143 [==============================] - 6s 42ms/step - loss: 0.1280 - mae: 0.1475 - val_loss: 0.5638 - val_mae: 0.4116\n",
      "Epoch 12/100\n",
      "143/143 [==============================] - 6s 41ms/step - loss: 0.0882 - mae: 0.1408 - val_loss: 0.5167 - val_mae: 0.4087\n",
      "Epoch 13/100\n",
      "143/143 [==============================] - 6s 41ms/step - loss: 0.0818 - mae: 0.1386 - val_loss: 0.5362 - val_mae: 0.4051\n"
     ]
    }
   ],
   "source": [
    "history_best = best_model.fit( X_train, y_train, epochs=100, validation_data=(X_test, y_test), callbacks=[early_stopping])"
   ]
  },
  {
   "cell_type": "code",
   "execution_count": 28,
   "id": "76619bec-c834-4463-8c20-0d0b0fb009e7",
   "metadata": {},
   "outputs": [
    {
     "data": {
      "image/png": "[encoded data removed]",
      "text/plain": [
       "<Figure size 640x480 with 1 Axes>"
      ]
     },
     "metadata": {},
     "output_type": "display_data"
    }
   ],
   "source": [
    "# Graph plot\n",
    "import matplotlib.pyplot as plt\n",
    "plt.plot(best_model.history.history['loss'], label='Training loss')\n",
    "plt.plot(best_model.history.history['val_loss'], label='Validation loss')\n",
    "plt.plot(best_model.history.history['mae'], label='Training mae')\n",
    "plt.plot(best_model.history.history['val_mae'], label='Validation mae')\n",
    "plt.xlabel('Epochs')\n",
    "plt.ylabel('Accuracy')\n",
    "plt.legend()\n",
    "plt.show()"
   ]
  },
  {
   "cell_type": "code",
   "execution_count": 29,
   "id": "ee503ddc-5061-4b7e-a637-e85b8c101107",
   "metadata": {},
   "outputs": [
    {
     "name": "stdout",
     "output_type": "stream",
     "text": [
      "36/36 [==============================] - 0s 11ms/step\n"
     ]
    }
   ],
   "source": [
    "val_preds = best_model.predict(X_test)"
   ]
  },
  {
   "cell_type": "code",
   "execution_count": 30,
   "id": "9522a5c2-dcf1-496a-8d2f-2df4a2b8124d",
   "metadata": {},
   "outputs": [],
   "source": [
    "val_preds1 = sc_price.inverse_transform(val_preds)"
   ]
  },
  {
   "cell_type": "code",
   "execution_count": 31,
   "id": "a1b78c31-57c5-4817-a3f9-26e1eeba7626",
   "metadata": {},
   "outputs": [
    {
     "name": "stdout",
     "output_type": "stream",
     "text": [
      "[[27.042336]\n",
      " [39.265736]\n",
      " [34.331177]\n",
      " ...\n",
      " [20.671366]\n",
      " [25.81247 ]\n",
      " [34.20688 ]]\n"
     ]
    }
   ],
   "source": [
    "print(val_preds1)"
   ]
  },
  {
   "cell_type": "code",
   "execution_count": null,
   "id": "1fe62a3d-f21c-40d3-b7fb-3e9e7947c539",
   "metadata": {},
   "outputs": [],
   "source": []
  }
 ],
 "metadata": {
  "kernelspec": {
   "display_name": "Python 3 (ipykernel)",
   "language": "python",
   "name": "python3"
  },
  "language_info": {
   "codemirror_mode": {
    "name": "ipython",
    "version": 3
   },
   "file_extension": ".py",
   "mimetype": "text/x-python",
   "name": "python",
   "nbconvert_exporter": "python",
   "pygments_lexer": "ipython3",
   "version": "3.11.7"
  }
 },
 "nbformat": 4,
 "nbformat_minor": 5
}
